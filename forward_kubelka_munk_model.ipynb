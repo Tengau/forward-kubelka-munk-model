{
 "cells": [
  {
   "cell_type": "markdown",
   "id": "96f80bc6",
   "metadata": {},
   "source": [
    "# Kubelka-Munk Model"
   ]
  },
  {
   "cell_type": "markdown",
   "id": "f37281f3",
   "metadata": {},
   "source": [
    "## Introduction\n",
    "The Kubelka-Munk theory, developed by Paul Kubelka and Franz Munk, is one of the most successful models of mixing paint. Unlike RGB, RYB, Subtractive, and Subtractive-Additive models, the K-M model follows the actual mixing process of paints that occur in real life. Within the paint, incident light and pigment particles interact by having the particles absorb and scatter the light depending on the wavelength. Ultimately, the difference in these absorption and scattering coefficients cause different paints to have different colors. \n",
    "\n",
    "The K-M model implemented in this Jupyter Python 3 notebook requires prior knowledge of the absorption and scattering coefficients $K(\\lambda)$ and $S(\\lambda)$. Provided with user input on the color names and the concentrations of the pigments, the XYZ tristimulus values for this mixture can be calculated.\n",
    "\n",
    "An overview of the program is included below:"
   ]
  },
  {
   "cell_type": "markdown",
   "id": "3bfac730",
   "metadata": {},
   "source": [
    "### Format Data [(jump)](#section_1)\n"
   ]
  },
  {
   "cell_type": "markdown",
   "id": "c1b23448",
   "metadata": {},
   "source": [
    "Databases including pigment k and s values, xyz CMFs, and D65 illuminant data were formatted and used."
   ]
  },
  {
   "cell_type": "markdown",
   "id": "60e2c54e",
   "metadata": {},
   "source": [
    "### User Input [(jump)](#section_2)\n"
   ]
  },
  {
   "cell_type": "markdown",
   "id": "c1c7e706",
   "metadata": {},
   "source": [
    "User input is collected for each paint color name and concentration out of 1."
   ]
  },
  {
   "cell_type": "markdown",
   "id": "bcf0d45e",
   "metadata": {},
   "source": [
    "### Calculate the XYZ Tristimulus Values [(jump)](#section_3)\n"
   ]
  },
  {
   "cell_type": "markdown",
   "id": "91ff897b",
   "metadata": {},
   "source": [
    "The XYZ tristimulus values are calculated using Saunderson's equation and the $D_{65}$ illuminant. The equations used in this section are referenced from __[section 2 of this paper](https://scrtwpns.com/mixbox.pdf)__."
   ]
  },
  {
   "cell_type": "markdown",
   "id": "fea5b9fd",
   "metadata": {},
   "source": [
    "### Calculate RGB Values [(jump)](#section_4)\n"
   ]
  },
  {
   "cell_type": "markdown",
   "id": "e8a1030c",
   "metadata": {},
   "source": [
    "The XYZ tristimulus values are converted to RGB values. The equations used in this section are also referenced from __[section 2 of this paper](https://scrtwpns.com/mixbox.pdf)__."
   ]
  },
  {
   "cell_type": "markdown",
   "id": "c21af37a",
   "metadata": {},
   "source": [
    "### Output [(jump)](#section_5)\n"
   ]
  },
  {
   "cell_type": "markdown",
   "id": "f4cbcffb",
   "metadata": {},
   "source": [
    "The RGB values calculated are displayed here."
   ]
  },
  {
   "cell_type": "markdown",
   "id": "2c178ca9",
   "metadata": {},
   "source": [
    "<a id='section_1'></a>\n",
    "## Format Data"
   ]
  },
  {
   "cell_type": "markdown",
   "id": "6f2af7ad",
   "metadata": {},
   "source": [
    "The first step is to format all of the data used. Specifically, databases including pigment k and s values, xyz CMFs, and illuminant data were used.\n",
    "\n",
    "Pigment data were referenced from an RIT database created by __[Yoshio Okumura at the Doshisha University](https://scholarworks.rit.edu/cgi/viewcontent.cgi?article=5896&context=theses)__ and described absorption and scattering coefficients of various GOLDEN Heavy Body Acrylics in different wavelengths.\n",
    "\n",
    "The 2-degree xyz CMFs were obtained from the __[Color & Vision Research Laboratory at UCL](http://cvrl.ioo.ucl.ac.uk/ciexyzpr.htm)__. These CMFs were transformed from the CIE (2006) 2-degree LMS cone fundamentals.\n",
    "\n",
    "The illuminant data were referenced from the __[CIE standard illuminant D65](https://sources.debian.org/src/colord/1.4.3-4/data/illuminant/CIE-D65.csv/)__ to represent average daylight. "
   ]
  },
  {
   "cell_type": "code",
   "execution_count": 1,
   "id": "26952a9d",
   "metadata": {},
   "outputs": [],
   "source": [
    "import pandas as pd\n",
    "# read data from three files for pigment k and s coefficients, xyz CMFs, \n",
    "# and D65 standard illuminant information.\n",
    "# Information is returned in the form of three dictionaries.\n",
    "def readData():\n",
    "    # read files -> DataFrame object\n",
    "    pigment_data = pd.read_excel(\"k_and_s_Yoshi_data.xlsx\")\n",
    "    xyz_data = pd.read_csv(\"XYZ_CMFs.csv\")\n",
    "    D65_data = pd.read_excel(\"D65.xlsx\")\n",
    "\n",
    "    # convert to dictionary\n",
    "    pigment_Dict = pigment_data.to_dict()\n",
    "    xyz_Dict = xyz_data.to_dict('index')\n",
    "    D65_Dict = D65_data.to_dict('index')\n",
    "\n",
    "    min_wavelength = xyz_Dict[0]['wavelength']\n",
    "    max_wavelength = xyz_Dict[len(xyz_Dict)-1]['wavelength']\n",
    "    return pigment_Dict, xyz_Dict, D65_Dict\n",
    "\n",
    "pigment_Dict, xyz_Dict, D65_Dict = readData()"
   ]
  },
  {
   "cell_type": "markdown",
   "id": "84b3f704",
   "metadata": {},
   "source": [
    "<a id='section_2'></a>\n",
    "## User Input \n"
   ]
  },
  {
   "cell_type": "markdown",
   "id": "e569f5a3",
   "metadata": {},
   "source": [
    "After converting the data to dictionaries for easy reference, user input is obtained for the color palette and paint concentrations. It is assumed that the concentration for each paint color ranges from 0 to 1 and that all paint concentrations should add up to equal 1."
   ]
  },
  {
   "cell_type": "code",
   "execution_count": 2,
   "id": "15df7aa1",
   "metadata": {
    "scrolled": false
   },
   "outputs": [
    {
     "name": "stdout",
     "output_type": "stream",
     "text": [
      "Color choices: \n"
     ]
    },
    {
     "data": {
      "application/vnd.jupyter.widget-view+json": {
       "model_id": "f229c10eb6be4f4ab7a27b3e5562371f",
       "version_major": 2,
       "version_minor": 0
      },
      "text/plain": [
       "VBox(children=(FloatSlider(value=0.0, description='White', layout=Layout(width='75%'), max=1.0, step=0.01, sty…"
      ]
     },
     "metadata": {},
     "output_type": "display_data"
    },
    {
     "data": {
      "application/vnd.jupyter.widget-view+json": {
       "model_id": "1c67c60ab44441a2a42eb37d0c1cb07e",
       "version_major": 2,
       "version_minor": 0
      },
      "text/plain": [
       "Button(description='Done', style=ButtonStyle())"
      ]
     },
     "metadata": {},
     "output_type": "display_data"
    },
    {
     "name": "stdout",
     "output_type": "stream",
     "text": [
      "Your color palette: {'White': 0.5, 'Cobalt Blue': 0.5}\n"
     ]
    }
   ],
   "source": [
    "# get user input for the names and concentrations of different pigments being mixed. \n",
    "import ipywidgets as widgets\n",
    "\n",
    "def makeFloatSlider(name):\n",
    "    slider = widgets.FloatSlider(value=0, min=0, max=1.0, step=0.01, description=name, disabled=False,\n",
    "    continuous_update=True, readout=True, style = {'description_width': '200px'}, layout=widgets.Layout(width='75%'))\n",
    "    return slider\n",
    "\n",
    "color_palette = {}\n",
    "listChoices = ['White', 'Black', 'Cobalt Blue', 'Quinacridone Magenta', 'Phthalo Blue (Green Shade)', 'Hansa Yellow', 'Phthalo Green', 'Pyrrole Red', 'Ultramarine Blue', 'Dioxazine Purple', 'Pyrrole Orange']\n",
    "listFloatSliders = [makeFloatSlider(choice) for choice in listChoices]\n",
    "\n",
    "# when button is clicked, add all non-zero concentrations and paint names to color_palette\n",
    "def on_button_clicked(b):\n",
    "    color_palette.clear()\n",
    "    for check in range(len(listChoices)):\n",
    "        if(listFloatSliders[check].value > 0):\n",
    "            color_palette.update({listChoices[check]: listFloatSliders[check].value})\n",
    "    print(\"Your color palette:\", color_palette)\n",
    "\n",
    "def getUserInput():\n",
    "    print(\"Color choices: \")\n",
    "    display(widgets.VBox(listFloatSliders))\n",
    "    button = widgets.Button(description = \"Done\")\n",
    "    button.on_click(on_button_clicked)\n",
    "    display(button)\n",
    "\n",
    "getUserInput()"
   ]
  },
  {
   "cell_type": "markdown",
   "id": "0a12749d",
   "metadata": {},
   "source": [
    "<a id='section_3'></a>\n",
    "## Calculate the XYZ Tristimulus Values"
   ]
  },
  {
   "cell_type": "markdown",
   "id": "14a572a1",
   "metadata": {},
   "source": [
    "The bulk of the code occurs below. With information about the concentrations of pigments, the XYZ tristimulus values can be calculated.\n",
    "\n",
    "For each wavelength, these values are calculated:\n",
    "1. The absorption(k) and scattering(s) of the paint mixture is detemined by a linear combination of the original paints k and s values. \n",
    "2. The K-M equations are then used to predict the reflectance spectrum (R_mix) of the mixture. A variable is created for the ks_ratio, which is simply K_mix/S_mix.\n",
    "3. The Saunderson equation is then used to calculate a modified reflectance spectrum (r_mix_saunders). This modified value accounts for surface reflection and uses measured reflectance constants (k1 and k2). In this project, k1 = 0.092 and k2 = 0.060.\n",
    "4. To get the CIE standard observer functions (integrands) required to calculate the XYZ tristimulus values, the mixture's xyz values are illuminated with the D65 illuminant in the equations: $\\bar{x}\\times D65\\times r_{mix}$, $\\bar{y}\\times D65\\times r_{mix}$ and $\\bar{z}\\times D65\\times r_{mix}$\n",
    "5. Finally, these values were integrated over the visible range of wavelengths. Limited by the databases, the wavelength limits were changed to $\\lambda \\in [390, 730]$"
   ]
  },
  {
   "cell_type": "code",
   "execution_count": 3,
   "id": "b62a7500",
   "metadata": {},
   "outputs": [],
   "source": [
    "from math import sqrt \n",
    "from scipy import integrate\n",
    "import numpy as np\n",
    "\n",
    "# integrands to integrate over\n",
    "x_integrand = []\n",
    "y_integrand = []\n",
    "z_integrand = []\n",
    "Y_D65_integrand = []\n",
    "\n",
    "limits = range(390, 740, 10)\n",
    "# for each lambda, calculate the integrands for the K-M model\n",
    "for wavelength in range(390, 740, 10):\n",
    "    \n",
    "    index = int(wavelength%390/10)\n",
    "    \n",
    "    # calculate k_mix(lambda) and s_mix(lambda)\n",
    "    k_mix = 0 # absorption coefficient\n",
    "    s_mix = 0 # scattering coefficient\n",
    "    for color in color_palette:\n",
    "        #if color in pigment_Dict:\n",
    "        k_mix += (pigment_Dict.get(\"k \" + color)[index] * color_palette.get(color))\n",
    "        s_mix += (pigment_Dict.get(\"s \" + color)[index] * color_palette.get(color))\n",
    "        #else:\n",
    "            #print(color, \"not found.\")\n",
    "    \n",
    "    # reference D65(lambda)\n",
    "    # convert from increments of 5 to increments of 10 by taking the average\n",
    "    D65 = (D65_Dict[index*2+19]['D65'] + D65_Dict[index*2+17]['D65'])/2\n",
    "    \n",
    "    # calculate R_mix\n",
    "    ks_ratio = k_mix/s_mix\n",
    "    r_mix = 1 + ks_ratio - sqrt((ks_ratio)**2+2*ks_ratio)\n",
    "    \n",
    "    # calculate R'mix(c, lambda)\n",
    "    k1 = 0.092 # measured reflectance constants\n",
    "    k2 = 0.060\n",
    "\n",
    "    r_mix_saunders = (1-k1)*(1-k2)*r_mix/(1-k2*r_mix)\n",
    "    \n",
    "    if(index == 0):\n",
    "        _x = xyz_Dict[index*2]['x']\n",
    "        _y = xyz_Dict[index*2]['y']\n",
    "        _z = xyz_Dict[index*2]['z']\n",
    "    else: \n",
    "        # convert from increments of 5 to increments of 10 by taking the average\n",
    "        _x = (xyz_Dict[index*2+1]['x'] + xyz_Dict[index*2-1]['x'])/2\n",
    "        _y = (xyz_Dict[index*2+1]['y'] + xyz_Dict[index*2-1]['y'])/2\n",
    "        _z = (xyz_Dict[index*2+1]['z'] + xyz_Dict[index*2-1]['z'])/2\n",
    "    \n",
    "    # calculate _x(lambda), _y(lambda), _z(lambda)\n",
    "    x_integrand.append(_x*D65*r_mix_saunders)\n",
    "    y_integrand.append(_y*D65*r_mix_saunders)\n",
    "    z_integrand.append(_z*D65*r_mix_saunders)\n",
    "    \n",
    "    # calculate Y_D65_integrand\n",
    "    Y_D65_integrand.append(_y*D65)\n",
    "\n",
    "X = integrate.simpson(x_integrand, limits)\n",
    "Y = integrate.simpson(y_integrand, limits)\n",
    "Z = integrate.simpson(z_integrand, limits)\n",
    "\n",
    "Y_D65 = integrate.simpson(Y_D65_integrand, limits)"
   ]
  },
  {
   "cell_type": "markdown",
   "id": "ab671068",
   "metadata": {},
   "source": [
    "<a id='section_4'></a>\n",
    "## Calculate RGB Values"
   ]
  },
  {
   "cell_type": "markdown",
   "id": "893652ab",
   "metadata": {},
   "source": [
    "The RGB values of the mixture can finally be obtained by multiplying the predicted XYZ tristimulus values by the sRGB chromaticities. This value is then normalized by $Y_{D65} = \\int\\bar{y}(\\lambda)\\times D_{65}(\\lambda) \\, d\\lambda$."
   ]
  },
  {
   "cell_type": "code",
   "execution_count": 4,
   "id": "bc048ced",
   "metadata": {},
   "outputs": [],
   "source": [
    "# calculated XYZ\n",
    "XYZ = np.array([X, Y, Z])\n",
    "\n",
    "# sRGB chromaticities\n",
    "sRGB = np.array([[3.2406, -1.5372, -0.4986], \n",
    "                 [-0.9689, 1.8758, 0.0415], \n",
    "                 [0.0557, -0.2040, 1.0570]])\n",
    "\n",
    "# matrix mult. for mix(c)\n",
    "RGB = (1/Y_D65)* np.matmul(sRGB, XYZ)"
   ]
  },
  {
   "cell_type": "markdown",
   "id": "9e9995a0",
   "metadata": {},
   "source": [
    "The RGB value can be multiplied by 255 to display on computer screens."
   ]
  },
  {
   "cell_type": "code",
   "execution_count": 5,
   "id": "96193b95",
   "metadata": {},
   "outputs": [],
   "source": [
    "RGB *= 255"
   ]
  },
  {
   "cell_type": "markdown",
   "id": "c8b1c474",
   "metadata": {},
   "source": [
    "<a id='section_5'></a>\n",
    "## Output"
   ]
  },
  {
   "cell_type": "markdown",
   "id": "60a120ef",
   "metadata": {},
   "source": [
    "Finally, the paint mixture color can be displayed:"
   ]
  },
  {
   "cell_type": "code",
   "execution_count": 6,
   "id": "be242fba",
   "metadata": {
    "scrolled": true
   },
   "outputs": [
    {
     "data": {
      "image/png": "[encoded data removed]",
      "text/plain": [
       "<Figure size 640x480 with 1 Axes>"
      ]
     },
     "metadata": {},
     "output_type": "display_data"
    }
   ],
   "source": [
    "import matplotlib.pyplot as plt\n",
    "\n",
    "# generate a square with the calculated color\n",
    "def generateRGB_image(RGB):\n",
    "    height, width, channel = 64, 64, 3\n",
    "    arr = np.full((height, width, channel), [RGB[0], RGB[1], RGB[2]], dtype=('uint8'))\n",
    "    plt.imshow(arr)\n",
    "    plt.axis('off')\n",
    "\n",
    "generateRGB_image(RGB)"
   ]
  },
  {
   "cell_type": "code",
   "execution_count": null,
   "id": "010d62f5",
   "metadata": {},
   "outputs": [],
   "source": []
  }
 ],
 "metadata": {
  "kernelspec": {
   "display_name": "Python 3 (ipykernel)",
   "language": "python",
   "name": "python3"
  },
  "language_info": {
   "codemirror_mode": {
    "name": "ipython",
    "version": 3
   },
   "file_extension": ".py",
   "mimetype": "text/x-python",
   "name": "python",
   "nbconvert_exporter": "python",
   "pygments_lexer": "ipython3",
   "version": "3.9.7"
  }
 },
 "nbformat": 4,
 "nbformat_minor": 5
}
